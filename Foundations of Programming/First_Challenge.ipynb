{
 "cells": [
  {
   "cell_type": "code",
   "execution_count": 1,
   "metadata": {
    "collapsed": true
   },
   "outputs": [],
   "source": [
    "D = [\"able\", \"ale\", \"apple\", \"bale\", \"kangaroo\"]\n",
    "S = \"abppplee\""
   ]
  },
  {
   "cell_type": "code",
   "execution_count": 2,
   "metadata": {},
   "outputs": [],
   "source": [
    "D_sorted = sorted(D, key=len) \n",
    "letters_S = list(S)"
   ]
  },
  {
   "cell_type": "code",
   "execution_count": 3,
   "metadata": {},
   "outputs": [],
   "source": [
    "lista = []\n",
    "for word in D:\n",
    "    i = 0\n",
    "    index = 0\n",
    "    suma = 0\n",
    "    word_l = list(word)\n",
    "    while(i<len(letters_S) and index<len(word_l)):\n",
    "        if(word_l[index] == letters_S[i]):\n",
    "            suma += 1\n",
    "            index +=1\n",
    "        i += 1\n",
    "    if (suma == len(word_l)):\n",
    "        lista.append(word)"
   ]
  },
  {
   "cell_type": "code",
   "execution_count": 4,
   "metadata": {},
   "outputs": [
    {
     "data": {
      "text/plain": [
       "'apple'"
      ]
     },
     "execution_count": 4,
     "metadata": {},
     "output_type": "execute_result"
    }
   ],
   "source": [
    "lista[-1]"
   ]
  }
 ],
 "metadata": {
  "kernelspec": {
   "display_name": "Python 3",
   "language": "python",
   "name": "python3"
  },
  "language_info": {
   "codemirror_mode": {
    "name": "ipython",
    "version": 3
   },
   "file_extension": ".py",
   "mimetype": "text/x-python",
   "name": "python",
   "nbconvert_exporter": "python",
   "pygments_lexer": "ipython3",
   "version": "3.7.0"
  }
 },
 "nbformat": 4,
 "nbformat_minor": 2
}
